{
  "nbformat": 4,
  "nbformat_minor": 0,
  "metadata": {
    "colab": {
      "provenance": []
    },
    "kernelspec": {
      "name": "python3",
      "display_name": "Python 3"
    },
    "language_info": {
      "name": "python"
    }
  },
  "cells": [
    {
      "cell_type": "code",
      "execution_count": 1,
      "metadata": {
        "id": "XMiNkIIhFoGX"
      },
      "outputs": [],
      "source": [
        "import pandas as pd"
      ]
    },
    {
      "cell_type": "code",
      "source": [
        "classification_df = pd.read_csv('output/final_taskA_classification_output.csv')\n",
        "summarization_df = pd.read_csv('output/final_taskA_summarization_output.csv')"
      ],
      "metadata": {
        "id": "1PFZNdH5MyRn"
      },
      "execution_count": 2,
      "outputs": []
    },
    {
      "cell_type": "code",
      "source": [
        "new_df = pd.merge(classification_df, summarization_df, on='ID')"
      ],
      "metadata": {
        "id": "1o2KYMOnNCsH"
      },
      "execution_count": 4,
      "outputs": []
    },
    {
      "cell_type": "code",
      "source": [
        "new_df.to_csv('submission_output/final_taskA_output.csv', index=False)"
      ],
      "metadata": {
        "id": "6F119jBXNlkq"
      },
      "execution_count": 6,
      "outputs": []
    }
  ]
}